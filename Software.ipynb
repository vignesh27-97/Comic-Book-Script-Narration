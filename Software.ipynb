{
 "cells": [
  {
   "cell_type": "markdown",
   "id": "e1b5c7e5-099f-4064-a6f7-ef414df82efc",
   "metadata": {},
   "source": [
    "<div style=\"text-align: right\">INFO 6105 - Data Science Eng Methods and Tools</div>\n",
    "<div style=\"text-align: right\">Assignment 4</div>\n",
    "<div style=\"text-align: right\">Vignesh Kumar Baskar [002196442]</div>\n",
    "\n",
    "**Movies with Python**\n",
    "\n",
    "**Team Submission - Software**\n",
    "\n",
    "*Team 4_2*\n"
   ]
  },
  {
   "cell_type": "markdown",
   "id": "91654d63-32b6-4b51-9a1d-508ec9c4abc3",
   "metadata": {},
   "source": [
    "*Adding borders to the list of images*"
   ]
  },
  {
   "cell_type": "code",
   "execution_count": null,
   "id": "7b154757-c3e7-4e39-8683-32422d674b9b",
   "metadata": {},
   "outputs": [],
   "source": [
    "from PIL import Image as pili, ImageOps as piliops\n",
    "\n",
    "#path_in = r\"ENG/Frames/\"\n",
    "#path_out = r\"ENG/Borders/\"\n",
    "\n",
    "list_im = os.listdir(path_in)\n",
    "\n",
    "for files in os.listdir(path_in):\n",
    "    new_path = path_in+files\n",
    "    new_path_out = path_out+files\n",
    "    piliops.expand(pili.open(new_path), border=(170,170),fill='blue').save(new_path_out)\n",
    "    \n",
    "print(\"Success!!\")"
   ]
  },
  {
   "cell_type": "markdown",
   "id": "2a82000a-49b0-45a8-9d37-47bc8f8feb5a",
   "metadata": {},
   "source": [
    "*Importing Subtiles from the Excell sheet*\n",
    "\n",
    "*Accessing those using Pandas library*"
   ]
  },
  {
   "cell_type": "code",
   "execution_count": null,
   "id": "6dbbfd77-0b9f-4726-9dba-f76c5739849b",
   "metadata": {},
   "outputs": [],
   "source": [
    "import pandas as pd\n",
    "\n",
    "subs = []\n",
    "df = pd.read_excel('Scripts/Script.xlsx', sheet_name='Sheet1', usecols='B')\n",
    "df = df['Subtitle-ENG'].str.replace(\"^\\['|'\\]$\",\"\")\n",
    "for i in df.values:\n",
    "    subs.append(i)"
   ]
  },
  {
   "cell_type": "markdown",
   "id": "6f86d65f-912f-4d9e-ad70-d45751e98083",
   "metadata": {},
   "source": [
    "*Adding the subtitle to the bordered images and saved in the FrameWithSubs Folder*"
   ]
  },
  {
   "cell_type": "code",
   "execution_count": null,
   "id": "7df06504-1005-4dc2-86ec-701ba0ecd065",
   "metadata": {},
   "outputs": [],
   "source": [
    "from PIL import Image as pili, ImageDraw as pild, ImageFont as pilf\n",
    "from PIL import ImageOps\n",
    "\n",
    "#path_in = r\"ENG/Borders/\"\n",
    "#path_out = r\"ENG/FrameWithSubs/\"\n",
    "\n",
    "list_im = os.listdir(path_in)\n",
    "list_im.sort()\n",
    "index = 0\n",
    "\n",
    "\n",
    "for files in os.listdir(path_in):\n",
    "    \n",
    "    new_path = path_in+files\n",
    "    image = pili.open(new_path)\n",
    "    resize = image.resize((500,500))\n",
    "    border = ImageOps.expand(resize, border=(8,8), fill=(600,400,200))\n",
    "    \n",
    "    TINT_COLOR = (0, 0, 0)  # Black\n",
    "    TRANSPARENCY = .40      # Degree of transparency, 0-100%\n",
    "    OPACITY = int(255 * TRANSPARENCY)\n",
    "        \n",
    "    img = border.convert('RGBA')\n",
    "    overlay = pili.new('RGBA', img.size, TINT_COLOR+(0,))\n",
    "    draw = pild.Draw(overlay)\n",
    "    font = pilf.truetype(\"arial.ttf\", 30)\n",
    "    text = subs[index]\n",
    "    w, h = font.getsize(text)\n",
    "    num_lines = len(text.split('\\n'))\n",
    "    x, y = 10, img.height - (num_lines-0.1*num_lines)*h\n",
    "    draw.rectangle((x, y, x + img.width - 200, y + (num_lines-0.1*num_lines)*h), fill=TINT_COLOR+(OPACITY,))\n",
    "    draw.text((x, y), text, fill=(209, 239, 8), font=font)\n",
    "\n",
    "    # Alpha composite these two images together to obtain the desired result.\n",
    "    img = pili.alpha_composite(img, overlay)\n",
    "    \n",
    "    img = img.convert(\"RGB\")   # Remove alpha for saving in jpg format.\n",
    "    new_path_out = path_out+files\n",
    "    img.save(new_path_out)\n",
    "    index+= 1\n",
    "    \n",
    "print(\"Success!!\")"
   ]
  },
  {
   "cell_type": "markdown",
   "id": "5d214b8a-2e63-46a5-af83-1c2698839ec7",
   "metadata": {},
   "source": [
    "*Stacking those images horizontally*"
   ]
  },
  {
   "cell_type": "code",
   "execution_count": null,
   "id": "226fc7ff-84e5-467d-9099-404b08419e37",
   "metadata": {},
   "outputs": [],
   "source": [
    "import os\n",
    "import numpy as np\n",
    "import PIL\n",
    "from os.path import isfile, join\n",
    "#path_in = r\"ENG/FrameWithSubs/\"\n",
    "#path_out = r\"ENG/Horizontal/\"\n",
    "files = os.listdir(path_in)\n",
    "files.sort()\n",
    "\n",
    "pages = 1\n",
    "while 0 < len(files):\n",
    "    lines = 0\n",
    "    print('PAGE '+str(pages))\n",
    "    num_cols = old_num_cols = 0\n",
    "    while lines < 6 and 0 < len(files):\n",
    "        lines += 1\n",
    "        while num_cols == old_num_cols:\n",
    "            num_cols = np.random.randint(3, 5)\n",
    "        old_num_cols = num_cols\n",
    "        files_one_line = files[:num_cols]\n",
    "        print(files_one_line)\n",
    "        imgs_one_line = [ PIL.Image.open(path_in+i) for i in files_one_line ]\n",
    "        min_shape = sorted( [(np.sum(i.size), i.size ) for i in imgs_one_line])[0][1]\n",
    "        imgs_comb = np.hstack( (np.asarray(i.resize(min_shape)) for i in imgs_one_line ) )\n",
    "        imgs_comb = PIL.Image.fromarray(imgs_comb)\n",
    "        imgs_comb.save( path_out+str(pages)+str(lines)+'.jpg' )\n",
    "        files = files[num_cols:]\n",
    "    pages+=1\n",
    "\n",
    "print(\"\\nSuccess!!\")"
   ]
  },
  {
   "cell_type": "markdown",
   "id": "47c2740a-9383-438a-b2d0-9520e7a958af",
   "metadata": {},
   "source": [
    "*Vertically stacking those horizontal images*"
   ]
  },
  {
   "cell_type": "code",
   "execution_count": null,
   "id": "4ac3ba77-12c3-4e83-9a42-37f1f0d9b034",
   "metadata": {},
   "outputs": [],
   "source": [
    "import os\n",
    "import numpy as np\n",
    "import PIL\n",
    "from os.path import isfile, join\n",
    "\n",
    "#path_in = r\"ENG/Horizontal/\"\n",
    "#path_out = r\"ENG/Vertical/\"\n",
    "\n",
    "files = os.listdir(path_in)\n",
    "files.sort()\n",
    "\n",
    "pages = 1\n",
    "while 0 < len(files):\n",
    "    lines = 0\n",
    "    print('page '+str(pages))\n",
    "    num_cols = old_num_cols = 0\n",
    "    while lines < 6 and 0 < len(files):\n",
    "        lines += 1\n",
    "        while num_cols == old_num_cols:\n",
    "            num_cols = np.random.randint(3, 5)\n",
    "        old_num_cols = num_cols\n",
    "        files_one_line = files[:num_cols]\n",
    "        print(files_one_line)\n",
    "        imgs_one_line = [ PIL.Image.open(path_in+i) for i in files_one_line ]\n",
    "        min_shape = sorted( [(np.sum(i.size), i.size ) for i in imgs_one_line])[0][1]\n",
    "        imgs_comb = np.vstack( (np.asarray(i.resize(min_shape)) for i in imgs_one_line ) )\n",
    "        imgs_comb = PIL.Image.fromarray(imgs_comb)\n",
    "        imgs_comb.save( path_out+str(pages)+str(lines)+'.jpg' )\n",
    "        files = files[num_cols:]\n",
    "    pages+=1\n",
    "\n",
    "print(\"\\nSuccess!!\")"
   ]
  },
  {
   "cell_type": "markdown",
   "id": "4d505b05-568c-4080-b41f-09e9d6324f48",
   "metadata": {},
   "source": [
    "*Adding cartoon comic mix to those frames*\n",
    "\n",
    "Defining two functions: \n",
    "\n",
    "1. imgcompress_mem - For compressing and resizing the image\n",
    "\n",
    "2. cartoonizebl_mem - For adding cartoonist feature to those images by using cv2 library"
   ]
  },
  {
   "cell_type": "code",
   "execution_count": null,
   "id": "643b348d-39ea-4186-b442-aba5990c65a2",
   "metadata": {},
   "outputs": [],
   "source": [
    "import cv2 \n",
    "def imgcompress_mem(path_in, k):\n",
    "    img = cv2.imread(path_in, cv2.IMREAD_UNCHANGED)\n",
    "\n",
    "    # set the ratio of resized image\n",
    "    width = int((img.shape[1])/k)\n",
    "    height = int((img.shape[0])/k)\n",
    "\n",
    "    # resize the image by resize() function of openCV library\n",
    "    return cv2.resize(img, (width, height), interpolation=cv2.INTER_AREA)"
   ]
  },
  {
   "cell_type": "code",
   "execution_count": null,
   "id": "829b464c-a2c3-4c99-9103-0c300939fbf6",
   "metadata": {},
   "outputs": [],
   "source": [
    "def cartoonizebl_mem(path_in, k, blur, line):\n",
    "    \n",
    "    imgc = imgcompress_mem(path_in, k)\n",
    "    #imgc_pil = cv2.cvtColor(imgc, cv2.COLOR_BGR2RGB) # Converting BGR to RGB\n",
    "    #display(Image.fromarray(imgc_pil))\n",
    "\n",
    "    line_size = line\n",
    "    blur_value = blur\n",
    "    #imgc = cv2.imread(path_out, cv2.IMREAD_UNCHANGED)\n",
    "    gray = cv2.cvtColor(imgc, cv2.COLOR_BGR2GRAY)\n",
    "    gray_blur = cv2.medianBlur(gray, blur_value)\n",
    "    bigedges = cv2.adaptiveThreshold(gray_blur, 255, cv2.ADAPTIVE_THRESH_MEAN_C, cv2.THRESH_BINARY, line_size, blur_value)\n",
    "    bigedges_pil = cv2.cvtColor(bigedges, cv2.COLOR_BGR2RGB) # Converting BGR to RGB\n",
    "    #display(Image.fromarray(bigedges_pil))\n",
    "\n",
    "    return cv2.bitwise_and(imgc, imgc, mask=bigedges)"
   ]
  },
  {
   "cell_type": "code",
   "execution_count": null,
   "id": "716f277b-6286-491e-8728-1d6a932a9da6",
   "metadata": {},
   "outputs": [],
   "source": [
    "import cv2 \n",
    "from IPython.display import display\n",
    "import numpy as np\n",
    "from PIL import Image, ImageOps\n",
    "\n",
    "#path_in = r\"ENG/Vertical/\"\n",
    "files = os.listdir(path_in)\n",
    "#path_out = r\"ENG/Animation/\"\n",
    "\n",
    "for image in files:\n",
    "    \n",
    "    new_path = path_in+image\n",
    "    cblimg = cartoonizebl_mem(new_path, 1.5, 5, 5)\n",
    "    cv2.imwrite(path_out+image,cblimg)"
   ]
  },
  {
   "cell_type": "markdown",
   "id": "17f5ffe5-95ce-4203-a930-27224f8eaff2",
   "metadata": {},
   "source": [
    "*Step6: Converting these images to PDF file and save it in PDF folder*"
   ]
  },
  {
   "cell_type": "code",
   "execution_count": null,
   "id": "b9e10169-3e60-4ea8-b700-33c22b4bbbb5",
   "metadata": {},
   "outputs": [],
   "source": [
    "from PIL import Image\n",
    "from fpdf import FPDF\n",
    "\n",
    "#path = r\"ENG/Animation/\"\n",
    "#cover = Image.open('ENG/Animation/11.jpg')\n",
    "width, height = cover.size\n",
    "pdf = FPDF(unit = \"pt\", format = [width, height])\n",
    "    \n",
    "files = os.listdir(path)\n",
    "\n",
    "for image in files:\n",
    "    new_path = path+image\n",
    "    pdf.add_page()\n",
    "    pdf.image(new_path, 0, 0, width, height)\n",
    "    \n",
    "pdf.output(\"ENG/PDF/ComicBook_ENG.pdf\", \"F\")\n",
    "print(\"Success!! Your Comic book PDF version has been saved.\")"
   ]
  }
 ],
 "metadata": {
  "kernelspec": {
   "display_name": "Python 3 (ipykernel)",
   "language": "python",
   "name": "python3"
  },
  "language_info": {
   "codemirror_mode": {
    "name": "ipython",
    "version": 3
   },
   "file_extension": ".py",
   "mimetype": "text/x-python",
   "name": "python",
   "nbconvert_exporter": "python",
   "pygments_lexer": "ipython3",
   "version": "3.9.7"
  }
 },
 "nbformat": 4,
 "nbformat_minor": 5
}
